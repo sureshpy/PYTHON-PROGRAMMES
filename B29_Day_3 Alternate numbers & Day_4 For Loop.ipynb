{
 "cells": [
  {
   "cell_type": "code",
   "execution_count": 3,
   "metadata": {},
   "outputs": [],
   "source": [
    "lenovo = [1,2,3,4,5,6,7,8,9]"
   ]
  },
  {
   "cell_type": "code",
   "execution_count": 4,
   "metadata": {},
   "outputs": [
    {
     "name": "stdout",
     "output_type": "stream",
     "text": [
      "[1, 2, 3, 4, 5, 6, 7, 8, 9]\n"
     ]
    }
   ],
   "source": [
    "print(lenovo)"
   ]
  },
  {
   "cell_type": "code",
   "execution_count": 5,
   "metadata": {},
   "outputs": [
    {
     "name": "stdout",
     "output_type": "stream",
     "text": [
      "[1, 2, 3, 4, 5, 6, 7, 8, 9]\n"
     ]
    }
   ],
   "source": [
    "print(lenovo[0:9])"
   ]
  },
  {
   "cell_type": "code",
   "execution_count": 6,
   "metadata": {},
   "outputs": [
    {
     "name": "stdout",
     "output_type": "stream",
     "text": [
      "[1, 2, 3, 4, 5, 6, 7, 8, 9]\n"
     ]
    }
   ],
   "source": [
    "print(lenovo[0:10])"
   ]
  },
  {
   "cell_type": "code",
   "execution_count": 8,
   "metadata": {},
   "outputs": [
    {
     "name": "stdout",
     "output_type": "stream",
     "text": [
      "[1, 2, 3, 4, 5, 6, 7, 8]\n"
     ]
    }
   ],
   "source": [
    "print(lenovo[0:8])"
   ]
  },
  {
   "cell_type": "code",
   "execution_count": 9,
   "metadata": {},
   "outputs": [
    {
     "name": "stdout",
     "output_type": "stream",
     "text": [
      "[2, 3, 4, 5, 6, 7, 8, 9]\n"
     ]
    }
   ],
   "source": [
    "print(lenovo[1:9])   ## we have given as 1 so output starts with 2"
   ]
  },
  {
   "cell_type": "code",
   "execution_count": 15,
   "metadata": {},
   "outputs": [
    {
     "name": "stdout",
     "output_type": "stream",
     "text": [
      "[1, 3, 5, 7, 9]\n"
     ]
    }
   ],
   "source": [
    "print(lenovo[0:9:2])  ## difference / gap is 1"
   ]
  },
  {
   "cell_type": "code",
   "execution_count": 16,
   "metadata": {},
   "outputs": [
    {
     "name": "stdout",
     "output_type": "stream",
     "text": [
      "[1, 4, 7]\n"
     ]
    }
   ],
   "source": [
    "print(lenovo[0:9:3]) ## difference / gap is 2"
   ]
  },
  {
   "cell_type": "code",
   "execution_count": 17,
   "metadata": {},
   "outputs": [
    {
     "name": "stdout",
     "output_type": "stream",
     "text": [
      "[1, 5, 9]\n"
     ]
    }
   ],
   "source": [
    "print(lenovo[0:9:4]) "
   ]
  },
  {
   "cell_type": "code",
   "execution_count": null,
   "metadata": {},
   "outputs": [],
   "source": []
  },
  {
   "cell_type": "code",
   "execution_count": 18,
   "metadata": {},
   "outputs": [],
   "source": [
    "                    ## for Loop ##"
   ]
  },
  {
   "cell_type": "code",
   "execution_count": 25,
   "metadata": {},
   "outputs": [
    {
     "ename": "SyntaxError",
     "evalue": "invalid syntax (<ipython-input-25-574655ae963b>, line 1)",
     "output_type": "error",
     "traceback": [
      "\u001b[1;36m  File \u001b[1;32m\"<ipython-input-25-574655ae963b>\"\u001b[1;36m, line \u001b[1;32m1\u001b[0m\n\u001b[1;33m    Laptop=['lenovo','acer,'samsung','gateway','dell','hp]\u001b[0m\n\u001b[1;37m                            ^\u001b[0m\n\u001b[1;31mSyntaxError\u001b[0m\u001b[1;31m:\u001b[0m invalid syntax\n"
     ]
    }
   ],
   "source": [
    "Laptop=['lenovo','acer,'samsung','gateway','dell','hp]"
   ]
  },
  {
   "cell_type": "code",
   "execution_count": 24,
   "metadata": {},
   "outputs": [],
   "source": [
    "newstudents=['suresh','ashok','raju','srikanth','mahesh','niranjan']"
   ]
  },
  {
   "cell_type": "code",
   "execution_count": 30,
   "metadata": {},
   "outputs": [
    {
     "name": "stdout",
     "output_type": "stream",
     "text": [
      "keep up your good work,suresh\n"
     ]
    }
   ],
   "source": [
    "print(f\"keep up your good work,{newstudents[0]}\")"
   ]
  },
  {
   "cell_type": "code",
   "execution_count": 27,
   "metadata": {},
   "outputs": [
    {
     "name": "stdout",
     "output_type": "stream",
     "text": [
      "keep up your good work,ashok\n"
     ]
    }
   ],
   "source": [
    "print(f\"keep up your good work,{newstudents[1]}\")"
   ]
  },
  {
   "cell_type": "code",
   "execution_count": 28,
   "metadata": {},
   "outputs": [
    {
     "name": "stdout",
     "output_type": "stream",
     "text": [
      "keep up your good work,{newstudents[2]}\n"
     ]
    }
   ],
   "source": [
    "print(\"keep up your good work,{newstudents[2]}\")     ## we are not using f variable"
   ]
  },
  {
   "cell_type": "code",
   "execution_count": 49,
   "metadata": {},
   "outputs": [
    {
     "name": "stdout",
     "output_type": "stream",
     "text": [
      " keep up your good work,suresh\n"
     ]
    }
   ],
   "source": [
    "print(f\" keep up your good work,{newstudents[0]}\")  ## we are  using f variable "
   ]
  },
  {
   "cell_type": "code",
   "execution_count": 51,
   "metadata": {},
   "outputs": [
    {
     "name": "stdout",
     "output_type": "stream",
     "text": [
      " keep up your good work,Suresh\n",
      " keep up your good work,Ashok\n",
      " keep up your good work,Raju\n",
      " keep up your good work,Srikanth\n"
     ]
    }
   ],
   "source": [
    "print(f\" keep up your good work,{newstudents[0].title()}\")\n",
    "print(f\" keep up your good work,{newstudents[1].title()}\")\n",
    "print(f\" keep up your good work,{newstudents[2].title()}\")\n",
    "print(f\" keep up your good work,{newstudents[3].title()}\")"
   ]
  },
  {
   "cell_type": "code",
   "execution_count": 42,
   "metadata": {},
   "outputs": [
    {
     "ename": "SyntaxError",
     "evalue": "invalid syntax (<fstring>, line 1)",
     "output_type": "error",
     "traceback": [
      "\u001b[1;36m  File \u001b[1;32m\"<fstring>\"\u001b[1;36m, line \u001b[1;32m1\u001b[0m\n\u001b[1;33m    (students[])\u001b[0m\n\u001b[1;37m              ^\u001b[0m\n\u001b[1;31mSyntaxError\u001b[0m\u001b[1;31m:\u001b[0m invalid syntax\n"
     ]
    }
   ],
   "source": [
    "### appreciating all the students once at all\n",
    "\n",
    "for students in newstudents:\n",
    "    print(f\"keep up your good work,{students[]}\")"
   ]
  },
  {
   "cell_type": "code",
   "execution_count": 53,
   "metadata": {},
   "outputs": [
    {
     "name": "stdout",
     "output_type": "stream",
     "text": [
      "keep up your good work,suresh\n",
      "keep up your good work,ashok\n",
      "keep up your good work,raju\n",
      "keep up your good work,srikanth\n",
      "keep up your good work,mahesh\n",
      "keep up your good work,niranjan\n"
     ]
    }
   ],
   "source": [
    "for students in newstudents:\n",
    "    print(f\"keep up your good work,{students}\")"
   ]
  },
  {
   "cell_type": "code",
   "execution_count": 61,
   "metadata": {},
   "outputs": [
    {
     "name": "stdout",
     "output_type": "stream",
     "text": [
      "keep up your good work,{newstudents[0]}\n",
      "keep up your good work,{newstudents[0]}\n",
      "keep up your good work,{newstudents[0]}\n",
      "keep up your good work,{newstudents[0]}\n",
      "keep up your good work,{newstudents[0]}\n",
      "keep up your good work,{newstudents[0]}\n"
     ]
    }
   ],
   "source": [
    "for students in newstudents:\n",
    "    print(\"keep up your good work,{newstudents[0]}\")"
   ]
  },
  {
   "cell_type": "code",
   "execution_count": 62,
   "metadata": {},
   "outputs": [
    {
     "name": "stdout",
     "output_type": "stream",
     "text": [
      "keep it up goodwork,suresh\n",
      "keep it up goodwork,ashok\n",
      "keep it up goodwork,raju\n",
      "keep it up goodwork,srikanth\n",
      "keep it up goodwork,mahesh\n",
      "keep it up goodwork,niranjan\n"
     ]
    }
   ],
   "source": [
    "for programmers in newstudents:\n",
    "    print(f\"keep it up goodwork,{programmers}\")\n",
    "    "
   ]
  },
  {
   "cell_type": "code",
   "execution_count": 64,
   "metadata": {},
   "outputs": [
    {
     "name": "stdout",
     "output_type": "stream",
     "text": [
      "keep it up goodwork,n\n",
      "keep it up goodwork,i\n",
      "keep it up goodwork,r\n",
      "keep it up goodwork,a\n",
      "keep it up goodwork,n\n",
      "keep it up goodwork,j\n",
      "keep it up goodwork,a\n",
      "keep it up goodwork,n\n"
     ]
    }
   ],
   "source": [
    "for programmers in students:\n",
    "    print(f\"keep it up goodwork,{programmers}\")\n",
    "    "
   ]
  },
  {
   "cell_type": "code",
   "execution_count": 66,
   "metadata": {},
   "outputs": [
    {
     "name": "stdout",
     "output_type": "stream",
     "text": [
      "keep it up goodwork,suresh\n",
      "Iam looking forward to receive your files of today,suresh\n",
      "keep it up goodwork,ashok\n",
      "Iam looking forward to receive your files of today,ashok\n",
      "keep it up goodwork,raju\n",
      "Iam looking forward to receive your files of today,raju\n",
      "keep it up goodwork,srikanth\n",
      "Iam looking forward to receive your files of today,srikanth\n",
      "keep it up goodwork,mahesh\n",
      "Iam looking forward to receive your files of today,mahesh\n",
      "keep it up goodwork,niranjan\n",
      "Iam looking forward to receive your files of today,niranjan\n"
     ]
    }
   ],
   "source": [
    "for programmers in newstudents:\n",
    "    print(f\"keep it up goodwork,{programmers}\")\n",
    "    print(f\"Iam looking forward to receive your files of today,{programmers}\")"
   ]
  },
  {
   "cell_type": "code",
   "execution_count": 67,
   "metadata": {},
   "outputs": [
    {
     "name": "stdout",
     "output_type": "stream",
     "text": [
      "keep it up goodwork,suresh\n",
      "Iam looking forward to receive your files of today,suresh.\n",
      "\n",
      "keep it up goodwork,ashok\n",
      "Iam looking forward to receive your files of today,ashok.\n",
      "\n",
      "keep it up goodwork,raju\n",
      "Iam looking forward to receive your files of today,raju.\n",
      "\n",
      "keep it up goodwork,srikanth\n",
      "Iam looking forward to receive your files of today,srikanth.\n",
      "\n",
      "keep it up goodwork,mahesh\n",
      "Iam looking forward to receive your files of today,mahesh.\n",
      "\n",
      "keep it up goodwork,niranjan\n",
      "Iam looking forward to receive your files of today,niranjan.\n",
      "\n"
     ]
    }
   ],
   "source": [
    "for programmers in newstudents:\n",
    "    print(f\"keep it up goodwork,{programmers}\")\n",
    "    print(f\"Iam looking forward to receive your files of today,{programmers}.\\n\")"
   ]
  },
  {
   "cell_type": "code",
   "execution_count": 68,
   "metadata": {},
   "outputs": [
    {
     "name": "stdout",
     "output_type": "stream",
     "text": [
      "keep it up goodwork,suresh\n",
      "keep it up goodwork,ashok\n",
      "keep it up goodwork,raju\n",
      "keep it up goodwork,srikanth\n",
      "keep it up goodwork,mahesh\n",
      "keep it up goodwork,niranjan\n",
      "Iam looking forward to receive your files of today,niranjan.\n",
      "\n"
     ]
    }
   ],
   "source": [
    "for programmers in newstudents:\n",
    "    print(f\"keep it up goodwork,{programmers}\")\n",
    "print(f\"Iam looking forward to receive your files of today,{programmers}.\\n\")"
   ]
  },
  {
   "cell_type": "code",
   "execution_count": 70,
   "metadata": {},
   "outputs": [
    {
     "name": "stdout",
     "output_type": "stream",
     "text": [
      "keep it up goodwork,['suresh', 'ashok', 'raju', 'srikanth', 'mahesh', 'niranjan']\n",
      "Iam looking forward to receive your files of today,suresh.\n",
      "\n",
      "keep it up goodwork,['suresh', 'ashok', 'raju', 'srikanth', 'mahesh', 'niranjan']\n",
      "Iam looking forward to receive your files of today,ashok.\n",
      "\n",
      "keep it up goodwork,['suresh', 'ashok', 'raju', 'srikanth', 'mahesh', 'niranjan']\n",
      "Iam looking forward to receive your files of today,raju.\n",
      "\n",
      "keep it up goodwork,['suresh', 'ashok', 'raju', 'srikanth', 'mahesh', 'niranjan']\n",
      "Iam looking forward to receive your files of today,srikanth.\n",
      "\n",
      "keep it up goodwork,['suresh', 'ashok', 'raju', 'srikanth', 'mahesh', 'niranjan']\n",
      "Iam looking forward to receive your files of today,mahesh.\n",
      "\n",
      "keep it up goodwork,['suresh', 'ashok', 'raju', 'srikanth', 'mahesh', 'niranjan']\n",
      "Iam looking forward to receive your files of today,niranjan.\n",
      "\n"
     ]
    }
   ],
   "source": [
    "for programmers in newstudents:\n",
    "    print(f\"keep it up goodwork,{newstudents}\")\n",
    "    print(f\"Iam looking forward to receive your files of today,{programmers}.\\n\")"
   ]
  },
  {
   "cell_type": "code",
   "execution_count": 71,
   "metadata": {},
   "outputs": [
    {
     "name": "stdout",
     "output_type": "stream",
     "text": [
      "keep it up goodwork,['suresh', 'ashok', 'raju', 'srikanth', 'mahesh', 'niranjan']\n",
      "Iam looking forward to receive your files of today,['suresh', 'ashok', 'raju', 'srikanth', 'mahesh', 'niranjan'].\n",
      "\n",
      "keep it up goodwork,['suresh', 'ashok', 'raju', 'srikanth', 'mahesh', 'niranjan']\n",
      "Iam looking forward to receive your files of today,['suresh', 'ashok', 'raju', 'srikanth', 'mahesh', 'niranjan'].\n",
      "\n",
      "keep it up goodwork,['suresh', 'ashok', 'raju', 'srikanth', 'mahesh', 'niranjan']\n",
      "Iam looking forward to receive your files of today,['suresh', 'ashok', 'raju', 'srikanth', 'mahesh', 'niranjan'].\n",
      "\n",
      "keep it up goodwork,['suresh', 'ashok', 'raju', 'srikanth', 'mahesh', 'niranjan']\n",
      "Iam looking forward to receive your files of today,['suresh', 'ashok', 'raju', 'srikanth', 'mahesh', 'niranjan'].\n",
      "\n",
      "keep it up goodwork,['suresh', 'ashok', 'raju', 'srikanth', 'mahesh', 'niranjan']\n",
      "Iam looking forward to receive your files of today,['suresh', 'ashok', 'raju', 'srikanth', 'mahesh', 'niranjan'].\n",
      "\n",
      "keep it up goodwork,['suresh', 'ashok', 'raju', 'srikanth', 'mahesh', 'niranjan']\n",
      "Iam looking forward to receive your files of today,['suresh', 'ashok', 'raju', 'srikanth', 'mahesh', 'niranjan'].\n",
      "\n"
     ]
    }
   ],
   "source": [
    "for programmers in newstudents:\n",
    "    print(f\"keep it up goodwork,{newstudents}\")\n",
    "    print(f\"Iam looking forward to receive your files of today,{newstudents}.\\n\")"
   ]
  },
  {
   "cell_type": "code",
   "execution_count": 72,
   "metadata": {},
   "outputs": [
    {
     "name": "stdout",
     "output_type": "stream",
     "text": [
      "keep it up goodwork,suresh\n",
      "Iam looking forward to receive your files of today,['suresh', 'ashok', 'raju', 'srikanth', 'mahesh', 'niranjan'].\n",
      "\n",
      "keep it up goodwork,ashok\n",
      "Iam looking forward to receive your files of today,['suresh', 'ashok', 'raju', 'srikanth', 'mahesh', 'niranjan'].\n",
      "\n",
      "keep it up goodwork,raju\n",
      "Iam looking forward to receive your files of today,['suresh', 'ashok', 'raju', 'srikanth', 'mahesh', 'niranjan'].\n",
      "\n",
      "keep it up goodwork,srikanth\n",
      "Iam looking forward to receive your files of today,['suresh', 'ashok', 'raju', 'srikanth', 'mahesh', 'niranjan'].\n",
      "\n",
      "keep it up goodwork,mahesh\n",
      "Iam looking forward to receive your files of today,['suresh', 'ashok', 'raju', 'srikanth', 'mahesh', 'niranjan'].\n",
      "\n",
      "keep it up goodwork,niranjan\n",
      "Iam looking forward to receive your files of today,['suresh', 'ashok', 'raju', 'srikanth', 'mahesh', 'niranjan'].\n",
      "\n"
     ]
    }
   ],
   "source": [
    "for programmers in newstudents:\n",
    "    print(f\"keep it up goodwork,{programmers}\")\n",
    "    print(f\"Iam looking forward to receive your files of today,{newstudents}.\\n\")"
   ]
  },
  {
   "cell_type": "code",
   "execution_count": 73,
   "metadata": {},
   "outputs": [
    {
     "name": "stdout",
     "output_type": "stream",
     "text": [
      "keep it up goodwork,suresh\n",
      "Iam looking forward to receive your files of today,suresh.\n",
      "\n",
      "keep it up goodwork,ashok\n",
      "Iam looking forward to receive your files of today,ashok.\n",
      "\n",
      "keep it up goodwork,raju\n",
      "Iam looking forward to receive your files of today,raju.\n",
      "\n",
      "keep it up goodwork,srikanth\n",
      "Iam looking forward to receive your files of today,srikanth.\n",
      "\n",
      "keep it up goodwork,mahesh\n",
      "Iam looking forward to receive your files of today,mahesh.\n",
      "\n",
      "keep it up goodwork,niranjan\n",
      "Iam looking forward to receive your files of today,niranjan.\n",
      "\n"
     ]
    }
   ],
   "source": [
    "for programmers in newstudents:\n",
    "    print(f\"keep it up goodwork,{programmers}\")\n",
    "    print(f\"Iam looking forward to receive your files of today,{programmers}.\\n\")"
   ]
  },
  {
   "cell_type": "code",
   "execution_count": null,
   "metadata": {},
   "outputs": [],
   "source": []
  }
 ],
 "metadata": {
  "kernelspec": {
   "display_name": "Python 3",
   "language": "python",
   "name": "python3"
  },
  "language_info": {
   "codemirror_mode": {
    "name": "ipython",
    "version": 3
   },
   "file_extension": ".py",
   "mimetype": "text/x-python",
   "name": "python",
   "nbconvert_exporter": "python",
   "pygments_lexer": "ipython3",
   "version": "3.8.3"
  }
 },
 "nbformat": 4,
 "nbformat_minor": 4
}
